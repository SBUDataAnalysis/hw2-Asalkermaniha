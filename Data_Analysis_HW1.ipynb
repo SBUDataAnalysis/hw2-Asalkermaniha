{
 "cells": [
  {
   "attachments": {
    "1d_randomwalk.png": {
     "image/png": "[encoded data removed]"
    }
   },
   "cell_type": "markdown",
   "metadata": {},
   "source": [
    "![1d_randomwalk.png](attachment:1d_randomwalk.png)"
   ]
  },
  {
   "cell_type": "markdown",
   "metadata": {},
   "source": [
    "# Random Walk\n"
   ]
  },
  {
   "cell_type": "markdown",
   "metadata": {},
   "source": [
    "As a physics student sometimes you see some random movement in nature like brownian motion(it's actually deterministic). we can use stochastic litrature to study brownian motion and find lots of valuable information about this process. Random walk is somehow one of the most instructive models that can help you understand how random process can model the nature."
   ]
  },
  {
   "cell_type": "markdown",
   "metadata": {},
   "source": [
    "for the beging let's see what random walk is. according to Wikipedia(https://en.wikipedia.org/wiki/Random_walk) random walk is a mathematical object, known as a stochastic or random process, that describes a path that consists of a succession of random steps on some mathematical space such as the integers.\n",
    "\n",
    "An elementary example of a random walk is the random walk on the integer number line, ${\\displaystyle \\mathbb {Z} }$ , which starts at 0 and at each step moves +1 or −1 with equal probability. Other examples include the path traced by a molecule as it travels in a liquid or a gas (see Brownian motion), the search path of a foraging animal, the price of a fluctuating stock and the financial status of a gambler: all can be approximated by random walk models, even though they may not be truly random in reality."
   ]
  },
  {
   "cell_type": "markdown",
   "metadata": {},
   "source": [
    "We know that you are passionate and want to explore all details of these process(joke :) ) but for the begining let's start with the simplest model, one dimensional random walk with same probability for right and left step."
   ]
  },
  {
   "cell_type": "markdown",
   "metadata": {},
   "source": [
    "1. the simplest model of random walk is a One-dimensional random walk, which starts at 0 and at each step moves +1 or −1 with equal probability. consider 10000_step 1d random walk. and use $10^5$ ensemble. in each ensemble begin from the origin(0) and record the endpoint at 10000th step. plot the PDF of these endpoints. also, calculate the first four moments of this PDF."
   ]
  },
  {
   "cell_type": "code",
   "execution_count": 6,
   "metadata": {},
   "outputs": [
    {
     "data": {
      "text/plain": [
       "(array([1.000e+00, 0.000e+00, 2.000e+00, 6.000e+00, 6.000e+00, 5.000e+00,\n",
       "        1.300e+01, 1.800e+01, 3.400e+01, 8.100e+01, 1.010e+02, 1.560e+02,\n",
       "        2.290e+02, 2.930e+02, 3.980e+02, 6.200e+02, 7.940e+02, 9.840e+02,\n",
       "        1.494e+03, 1.674e+03, 2.191e+03, 2.877e+03, 3.059e+03, 3.505e+03,\n",
       "        4.679e+03, 4.414e+03, 4.929e+03, 5.985e+03, 5.463e+03, 5.456e+03,\n",
       "        6.521e+03, 5.495e+03, 5.161e+03, 5.499e+03, 4.531e+03, 4.068e+03,\n",
       "        4.073e+03, 3.107e+03, 2.572e+03, 2.455e+03, 1.741e+03, 1.402e+03,\n",
       "        1.228e+03, 8.090e+02, 5.450e+02, 4.450e+02, 3.050e+02, 2.070e+02,\n",
       "        1.320e+02, 8.600e+01, 6.500e+01, 3.300e+01, 1.600e+01, 1.300e+01,\n",
       "        1.400e+01, 5.000e+00, 0.000e+00, 2.000e+00, 1.000e+00, 2.000e+00]),\n",
       " array([-440.        , -425.33333333, -410.66666667, -396.        ,\n",
       "        -381.33333333, -366.66666667, -352.        , -337.33333333,\n",
       "        -322.66666667, -308.        , -293.33333333, -278.66666667,\n",
       "        -264.        , -249.33333333, -234.66666667, -220.        ,\n",
       "        -205.33333333, -190.66666667, -176.        , -161.33333333,\n",
       "        -146.66666667, -132.        , -117.33333333, -102.66666667,\n",
       "         -88.        ,  -73.33333333,  -58.66666667,  -44.        ,\n",
       "         -29.33333333,  -14.66666667,    0.        ,   14.66666667,\n",
       "          29.33333333,   44.        ,   58.66666667,   73.33333333,\n",
       "          88.        ,  102.66666667,  117.33333333,  132.        ,\n",
       "         146.66666667,  161.33333333,  176.        ,  190.66666667,\n",
       "         205.33333333,  220.        ,  234.66666667,  249.33333333,\n",
       "         264.        ,  278.66666667,  293.33333333,  308.        ,\n",
       "         322.66666667,  337.33333333,  352.        ,  366.66666667,\n",
       "         381.33333333,  396.        ,  410.66666667,  425.33333333,\n",
       "         440.        ]),\n",
       " <BarContainer object of 60 artists>)"
      ]
     },
     "execution_count": 6,
     "metadata": {},
     "output_type": "execute_result"
    },
    {
     "data": {
      "image/png": "[encoded data removed]",
      "text/plain": [
       "<Figure size 432x288 with 1 Axes>"
      ]
     },
     "metadata": {
      "needs_background": "light"
     },
     "output_type": "display_data"
    }
   ],
   "source": [
    "import numpy as np\n",
    "import matplotlib.pyplot as plt\n",
    "def one_D_random(esembles):\n",
    "    ens_list=[]\n",
    "    for ens in range(esembles):\n",
    "        steps=np.random.choice([1,-1],10000)\n",
    "        endpoint=np.sum(steps)\n",
    "        ens_list.append(endpoint)\n",
    "    return ens_list\n",
    "#one_D_random(100000)\n",
    "plt.hist(one_D_random(100000),bins=60)\n",
    "\n",
    "        "
   ]
  },
  {
   "cell_type": "markdown",
   "metadata": {},
   "source": [
    "now look at the plot you create. does it looklike a normal distribution? if yes isn't it strange cause we know that the probability is bionomial not guassian.\n"
   ]
  },
  {
   "cell_type": "code",
   "execution_count": null,
   "metadata": {},
   "outputs": [],
   "source": []
  },
  {
   "cell_type": "markdown",
   "metadata": {},
   "source": [
    "2.change the probability of jumping to right and left in a way that $P_{left} = 2 P_{right}$ and then repeat the process of Q1 again and evaluate the PDF and first four moments and cumulants. "
   ]
  },
  {
   "cell_type": "code",
   "execution_count": 7,
   "metadata": {},
   "outputs": [
    {
     "data": {
      "text/plain": [
       "(array([2.000e+00, 2.000e+00, 1.000e+00, 6.000e+00, 2.000e+00, 1.300e+01,\n",
       "        2.100e+01, 3.000e+01, 4.300e+01, 8.400e+01, 1.030e+02, 1.550e+02,\n",
       "        2.250e+02, 3.700e+02, 5.030e+02, 6.710e+02, 8.870e+02, 1.016e+03,\n",
       "        1.517e+03, 1.892e+03, 2.397e+03, 2.792e+03, 3.328e+03, 3.918e+03,\n",
       "        4.368e+03, 4.139e+03, 5.163e+03, 5.551e+03, 5.789e+03, 5.836e+03,\n",
       "        5.804e+03, 5.723e+03, 5.437e+03, 5.184e+03, 4.070e+03, 4.237e+03,\n",
       "        3.805e+03, 3.150e+03, 2.708e+03, 2.252e+03, 1.761e+03, 1.339e+03,\n",
       "        9.290e+02, 8.490e+02, 5.940e+02, 4.240e+02, 3.130e+02, 2.060e+02,\n",
       "        1.390e+02, 8.800e+01, 6.200e+01, 3.100e+01, 3.000e+01, 1.300e+01,\n",
       "        1.500e+01, 2.000e+00, 6.000e+00, 2.000e+00, 2.000e+00, 1.000e+00]),\n",
       " array([2922.        , 2935.76666667, 2949.53333333, 2963.3       ,\n",
       "        2977.06666667, 2990.83333333, 3004.6       , 3018.36666667,\n",
       "        3032.13333333, 3045.9       , 3059.66666667, 3073.43333333,\n",
       "        3087.2       , 3100.96666667, 3114.73333333, 3128.5       ,\n",
       "        3142.26666667, 3156.03333333, 3169.8       , 3183.56666667,\n",
       "        3197.33333333, 3211.1       , 3224.86666667, 3238.63333333,\n",
       "        3252.4       , 3266.16666667, 3279.93333333, 3293.7       ,\n",
       "        3307.46666667, 3321.23333333, 3335.        , 3348.76666667,\n",
       "        3362.53333333, 3376.3       , 3390.06666667, 3403.83333333,\n",
       "        3417.6       , 3431.36666667, 3445.13333333, 3458.9       ,\n",
       "        3472.66666667, 3486.43333333, 3500.2       , 3513.96666667,\n",
       "        3527.73333333, 3541.5       , 3555.26666667, 3569.03333333,\n",
       "        3582.8       , 3596.56666667, 3610.33333333, 3624.1       ,\n",
       "        3637.86666667, 3651.63333333, 3665.4       , 3679.16666667,\n",
       "        3692.93333333, 3706.7       , 3720.46666667, 3734.23333333,\n",
       "        3748.        ]),\n",
       " <BarContainer object of 60 artists>)"
      ]
     },
     "execution_count": 7,
     "metadata": {},
     "output_type": "execute_result"
    },
    {
     "data": {
      "image/png": "[encoded data removed]",
      "text/plain": [
       "<Figure size 432x288 with 1 Axes>"
      ]
     },
     "metadata": {
      "needs_background": "light"
     },
     "output_type": "display_data"
    }
   ],
   "source": [
    "import numpy as np\n",
    "import matplotlib.pyplot as plt\n",
    "def one_D_random(esembles):\n",
    "    ens_list=[]\n",
    "    for ens in range(esembles):\n",
    "        steps=np.random.choice([1,-1,1],10000)\n",
    "        endpoint=np.sum(steps)\n",
    "        ens_list.append(endpoint)\n",
    "    return ens_list\n",
    "#one_D_random(100000)\n",
    "plt.hist(one_D_random(100000),bins=60)"
   ]
  },
  {
   "cell_type": "code",
   "execution_count": 19,
   "metadata": {},
   "outputs": [
    {
     "data": {
      "text/plain": [
       "3333.6438"
      ]
     },
     "execution_count": 19,
     "metadata": {},
     "output_type": "execute_result"
    }
   ],
   "source": [
    "import scipy\n",
    "from scipy.stats import moment\n",
    "#1st moment and mean\n",
    "np.array(one_D_random(100000)).mean()"
   ]
  },
  {
   "cell_type": "code",
   "execution_count": 18,
   "metadata": {},
   "outputs": [
    {
     "data": {
      "text/plain": [
       "8928.857053980399"
      ]
     },
     "execution_count": 18,
     "metadata": {},
     "output_type": "execute_result"
    }
   ],
   "source": [
    "#2nd moment\n",
    "scipy.stats.moment(one_D_random(100000), moment=2)"
   ]
  },
  {
   "cell_type": "code",
   "execution_count": 21,
   "metadata": {},
   "outputs": [
    {
     "data": {
      "text/plain": [
       "8821.596248709999"
      ]
     },
     "execution_count": 21,
     "metadata": {},
     "output_type": "execute_result"
    }
   ],
   "source": [
    "#variance\n",
    "np.array(one_D_random(100000)).var()"
   ]
  },
  {
   "cell_type": "code",
   "execution_count": 24,
   "metadata": {},
   "outputs": [
    {
     "data": {
      "text/plain": [
       "-4626.649994953863"
      ]
     },
     "execution_count": 24,
     "metadata": {},
     "output_type": "execute_result"
    }
   ],
   "source": [
    "#3rd moment\n",
    "scipy.stats.moment(one_D_random(100000), moment=3)"
   ]
  },
  {
   "cell_type": "code",
   "execution_count": 26,
   "metadata": {},
   "outputs": [
    {
     "data": {
      "text/plain": [
       "238389655.9115555"
      ]
     },
     "execution_count": 26,
     "metadata": {},
     "output_type": "execute_result"
    }
   ],
   "source": [
    "#4th moment\n",
    "scipy.stats.moment(one_D_random(100000), moment=4)"
   ]
  },
  {
   "cell_type": "code",
   "execution_count": 27,
   "metadata": {},
   "outputs": [
    {
     "data": {
      "text/plain": [
       "-0.0027997603148670613"
      ]
     },
     "execution_count": 27,
     "metadata": {},
     "output_type": "execute_result"
    }
   ],
   "source": [
    "#Curtosis\n",
    "scipy.stats.kurtosis(one_D_random(100000))"
   ]
  },
  {
   "cell_type": "markdown",
   "metadata": {},
   "source": [
    "according to your result, can you tell how the shape of PDF function related to its cumulants?"
   ]
  },
  {
   "cell_type": "code",
   "execution_count": null,
   "metadata": {},
   "outputs": [],
   "source": []
  },
  {
   "cell_type": "markdown",
   "metadata": {},
   "source": [
    "# Conditional Probability\n"
   ]
  },
  {
   "attachments": {
    ".jpg": {
     "image/jpeg": "[encoded data removed]"
    }
   },
   "cell_type": "markdown",
   "metadata": {},
   "source": [
    "![.jpg](attachment:.jpg)"
   ]
  },
  {
   "cell_type": "markdown",
   "metadata": {},
   "source": [
    "Suppose you're on a game show, and you're given the choice of three doors: Behind one door is a car; behind the others, goats. You pick a door, say No. 1, and the host, who knows what's behind the doors, opens another door, say No. 3, which has a goat. He then says to you, \"Do you want to pick door No. 2?\" Is it to your advantage to switch your choice? if Yes write a it's code to tell Us why and if your answer is No code it to prove the first group they are wrong:)"
   ]
  },
  {
   "cell_type": "code",
   "execution_count": 20,
   "metadata": {},
   "outputs": [
    {
     "name": "stdout",
     "output_type": "stream",
     "text": [
      "stay results probability 0.348\n",
      "switch_results probability 0.652\n"
     ]
    }
   ],
   "source": [
    "import random\n",
    "n_tries = 1000\n",
    "# Lists to store results from stay and switch strategy\n",
    "stay_results = []\n",
    "switch_results = []\n",
    "for i in range(n_tries):\n",
    "    doors = ['car', 'goat', 'goat']\n",
    "    random.shuffle(doors)\n",
    "    my_door_index = random.choice([0, 1, 2])\n",
    "    stay_result = doors.pop(my_door_index)\n",
    "    doors.remove('goat')\n",
    "    switch_result = doors[0]\n",
    "    # Put results into result lists\n",
    "    stay_results.append(stay_result)\n",
    "    switch_results.append(switch_result)\n",
    "a=stay_results.count('car') / n_tries\n",
    "b=switch_results.count('car')/ n_tries\n",
    "print(\"stay results probability\",a)\n",
    "print(\"switch_results probability\",b)\n",
    "\n",
    "\n"
   ]
  },
  {
   "cell_type": "markdown",
   "metadata": {},
   "source": [
    "# Centeral limit theorem"
   ]
  },
  {
   "cell_type": "markdown",
   "metadata": {},
   "source": [
    "Choose a non-Gaussian distribution (uniform/bionomial/poission) and generate $10^5$ random variables for each of them.                                                      \n",
    "a) plot the PDF of samples you created .                                                   \n",
    "b) create $10^4$ random subset of length {2 , 5 , 10 , 20 , 100} from the first non-Gaussian distribution and caclculate mean of each subset, then plot the PDF of these means.                                                                       \n",
    "c) what do you understand form comparing the original distribution with those five?\n"
   ]
  },
  {
   "cell_type": "code",
   "execution_count": 2,
   "metadata": {},
   "outputs": [
    {
     "data": {
      "text/plain": [
       "(array([1690., 1636., 1691., 1658., 1727., 1674., 1704., 1661., 1665.,\n",
       "        1672., 1697., 1622., 1605., 1686., 1639., 1686., 1715., 1646.,\n",
       "        1681., 1667., 1676., 1639., 1556., 1679., 1643., 1677., 1674.,\n",
       "        1545., 1667., 1642., 1701., 1679., 1659., 1589., 1719., 1704.,\n",
       "        1578., 1732., 1653., 1670., 1645., 1729., 1688., 1648., 1670.,\n",
       "        1705., 1672., 1724., 1727., 1686., 1656., 1624., 1706., 1592.,\n",
       "        1657., 1709., 1638., 1651., 1668., 1701.]),\n",
       " array([2.81570465e-06, 1.66693058e-02, 3.33357959e-02, 5.00022859e-02,\n",
       "        6.66687760e-02, 8.33352661e-02, 1.00001756e-01, 1.16668246e-01,\n",
       "        1.33334736e-01, 1.50001226e-01, 1.66667717e-01, 1.83334207e-01,\n",
       "        2.00000697e-01, 2.16667187e-01, 2.33333677e-01, 2.50000167e-01,\n",
       "        2.66666657e-01, 2.83333147e-01, 2.99999637e-01, 3.16666127e-01,\n",
       "        3.33332617e-01, 3.49999107e-01, 3.66665597e-01, 3.83332088e-01,\n",
       "        3.99998578e-01, 4.16665068e-01, 4.33331558e-01, 4.49998048e-01,\n",
       "        4.66664538e-01, 4.83331028e-01, 4.99997518e-01, 5.16664008e-01,\n",
       "        5.33330498e-01, 5.49996988e-01, 5.66663478e-01, 5.83329969e-01,\n",
       "        5.99996459e-01, 6.16662949e-01, 6.33329439e-01, 6.49995929e-01,\n",
       "        6.66662419e-01, 6.83328909e-01, 6.99995399e-01, 7.16661889e-01,\n",
       "        7.33328379e-01, 7.49994869e-01, 7.66661359e-01, 7.83327849e-01,\n",
       "        7.99994340e-01, 8.16660830e-01, 8.33327320e-01, 8.49993810e-01,\n",
       "        8.66660300e-01, 8.83326790e-01, 8.99993280e-01, 9.16659770e-01,\n",
       "        9.33326260e-01, 9.49992750e-01, 9.66659240e-01, 9.83325730e-01,\n",
       "        9.99992221e-01]),\n",
       " <BarContainer object of 60 artists>)"
      ]
     },
     "execution_count": 2,
     "metadata": {},
     "output_type": "execute_result"
    },
    {
     "data": {
      "image/png": "[encoded data removed]",
      "text/plain": [
       "<Figure size 432x288 with 1 Axes>"
      ]
     },
     "metadata": {
      "needs_background": "light"
     },
     "output_type": "display_data"
    }
   ],
   "source": [
    "import numpy as np\n",
    "import matplotlib.pyplot as plt\n",
    "rand = np.random.uniform(0,1,10**5)\n",
    "plt.hist(rand,bins=60)\n"
   ]
  },
  {
   "cell_type": "code",
   "execution_count": 7,
   "metadata": {},
   "outputs": [
    {
     "data": {
      "text/plain": [
       "(array([  18.,   27.,   44.,   42.,   64.,   75.,  111.,   95.,  113.,\n",
       "         122.,  151.,  149.,  206.,  227.,  249.,  275.,  347.,  451.,\n",
       "         508.,  673.,  716.,  844., 1034., 1246., 1488., 1833., 2319.,\n",
       "        3094., 3986., 4540., 4679., 3903., 3038., 2384., 1843., 1539.,\n",
       "        1202., 1078.,  864.,  686.,  574.,  554.,  405.,  336.,  277.,\n",
       "         246.,  222.,  182.,  162.,  143.,  132.,  114.,  107.,   67.,\n",
       "          63.,   56.,   38.,   26.,   18.,   15.]),\n",
       " array([0.00926445, 0.02563767, 0.04201088, 0.05838409, 0.0747573 ,\n",
       "        0.09113051, 0.10750372, 0.12387693, 0.14025015, 0.15662336,\n",
       "        0.17299657, 0.18936978, 0.20574299, 0.2221162 , 0.23848941,\n",
       "        0.25486263, 0.27123584, 0.28760905, 0.30398226, 0.32035547,\n",
       "        0.33672868, 0.35310189, 0.36947511, 0.38584832, 0.40222153,\n",
       "        0.41859474, 0.43496795, 0.45134116, 0.46771437, 0.48408759,\n",
       "        0.5004608 , 0.51683401, 0.53320722, 0.54958043, 0.56595364,\n",
       "        0.58232685, 0.59870007, 0.61507328, 0.63144649, 0.6478197 ,\n",
       "        0.66419291, 0.68056612, 0.69693933, 0.71331255, 0.72968576,\n",
       "        0.74605897, 0.76243218, 0.77880539, 0.7951786 , 0.81155181,\n",
       "        0.82792503, 0.84429824, 0.86067145, 0.87704466, 0.89341787,\n",
       "        0.90979108, 0.92616429, 0.94253751, 0.95891072, 0.97528393,\n",
       "        0.99165714]),\n",
       " <BarContainer object of 60 artists>)"
      ]
     },
     "execution_count": 7,
     "metadata": {},
     "output_type": "execute_result"
    },
    {
     "data": {
      "image/png": "[encoded data removed]",
      "text/plain": [
       "<Figure size 432x288 with 1 Axes>"
      ]
     },
     "metadata": {
      "needs_background": "light"
     },
     "output_type": "display_data"
    }
   ],
   "source": [
    "length_set = [2 , 5 , 10 , 20 , 100]\n",
    "sett = []\n",
    "for n in length_set:\n",
    "    for i in range(10**4):\n",
    "        sub.append(np.random.choice(rand, n))\n",
    "mean = []\n",
    "for s in sett:\n",
    "    mean.append(s.mean())\n",
    "plt.hist(mean,bins=60)\n"
   ]
  },
  {
   "cell_type": "markdown",
   "metadata": {},
   "source": [
    "# Poission Approximation"
   ]
  },
  {
   "cell_type": "markdown",
   "metadata": {},
   "source": [
    "Use python libraries to generate bionomial and poission distributions for different N’s (remember $\\lambda =NP$). Over plot them for N = {5, 10, 20, 50, 100, 200, 1000}\n",
    "How does it behave as N increases? \n",
    "\n"
   ]
  },
  {
   "cell_type": "code",
   "execution_count": 52,
   "metadata": {},
   "outputs": [
    {
     "data": {
      "image/png": "[encoded data removed]",
      "text/plain": [
       "<Figure size 432x288 with 1 Axes>"
      ]
     },
     "metadata": {
      "needs_background": "light"
     },
     "output_type": "display_data"
    },
    {
     "data": {
      "image/png": "[encoded data removed]",
      "text/plain": [
       "<Figure size 432x288 with 1 Axes>"
      ]
     },
     "metadata": {
      "needs_background": "light"
     },
     "output_type": "display_data"
    },
    {
     "data": {
      "image/png": "[encoded data removed]",
      "text/plain": [
       "<Figure size 432x288 with 1 Axes>"
      ]
     },
     "metadata": {
      "needs_background": "light"
     },
     "output_type": "display_data"
    },
    {
     "data": {
      "image/png": "[encoded data removed]",
      "text/plain": [
       "<Figure size 432x288 with 1 Axes>"
      ]
     },
     "metadata": {
      "needs_background": "light"
     },
     "output_type": "display_data"
    },
    {
     "data": {
      "image/png": "[encoded data removed]",
      "text/plain": [
       "<Figure size 432x288 with 1 Axes>"
      ]
     },
     "metadata": {
      "needs_background": "light"
     },
     "output_type": "display_data"
    },
    {
     "data": {
      "image/png": "[encoded data removed]",
      "text/plain": [
       "<Figure size 432x288 with 1 Axes>"
      ]
     },
     "metadata": {
      "needs_background": "light"
     },
     "output_type": "display_data"
    },
    {
     "data": {
      "image/png": "[encoded data removed]",
      "text/plain": [
       "<Figure size 432x288 with 1 Axes>"
      ]
     },
     "metadata": {
      "needs_background": "light"
     },
     "output_type": "display_data"
    }
   ],
   "source": [
    "#binomial\n",
    "import numpy as np\n",
    "import matplotlib.pyplot as plt\n",
    "\n",
    "N = [5, 10, 20, 50, 100, 200,1000]\n",
    "for i in N:\n",
    "    s=np.random.binomial(n=i,p=.2,size=1000)\n",
    "    plt.hist(s)\n",
    "    plt.show()"
   ]
  },
  {
   "cell_type": "code",
   "execution_count": 56,
   "metadata": {},
   "outputs": [
    {
     "data": {
      "image/png": "[encoded data removed]",
      "text/plain": [
       "<Figure size 432x288 with 1 Axes>"
      ]
     },
     "metadata": {
      "needs_background": "light"
     },
     "output_type": "display_data"
    },
    {
     "data": {
      "image/png": "[encoded data removed]",
      "text/plain": [
       "<Figure size 432x288 with 1 Axes>"
      ]
     },
     "metadata": {
      "needs_background": "light"
     },
     "output_type": "display_data"
    },
    {
     "data": {
      "image/png": "[encoded data removed]",
      "text/plain": [
       "<Figure size 432x288 with 1 Axes>"
      ]
     },
     "metadata": {
      "needs_background": "light"
     },
     "output_type": "display_data"
    },
    {
     "data": {
      "image/png": "[encoded data removed]",
      "text/plain": [
       "<Figure size 432x288 with 1 Axes>"
      ]
     },
     "metadata": {
      "needs_background": "light"
     },
     "output_type": "display_data"
    },
    {
     "data": {
      "image/png": "[encoded data removed]",
      "text/plain": [
       "<Figure size 432x288 with 1 Axes>"
      ]
     },
     "metadata": {
      "needs_background": "light"
     },
     "output_type": "display_data"
    },
    {
     "data": {
      "image/png": "[encoded data removed]",
      "text/plain": [
       "<Figure size 432x288 with 1 Axes>"
      ]
     },
     "metadata": {
      "needs_background": "light"
     },
     "output_type": "display_data"
    },
    {
     "data": {
      "image/png": "[encoded data removed]",
      "text/plain": [
       "<Figure size 432x288 with 1 Axes>"
      ]
     },
     "metadata": {
      "needs_background": "light"
     },
     "output_type": "display_data"
    }
   ],
   "source": [
    "#poission\n",
    "import numpy as np\n",
    "import matplotlib.pyplot as plt\n",
    "\n",
    "lamda= [5*.2, 10*.2, 20*.2, 50*.2, 100*.2, 200*.2,1000*.2]\n",
    "for i in lamda:\n",
    "    l=np.random.poisson(i, size=1000)\n",
    "    plt.hist(l)\n",
    "    plt.show()"
   ]
  },
  {
   "cell_type": "markdown",
   "metadata": {},
   "source": [
    "# Box Muller Method"
   ]
  },
  {
   "cell_type": "markdown",
   "metadata": {},
   "source": [
    "1- generate Normal distribution from uniform distribution (Box-Muller algorithm(https://en.wikipedia.org/wiki/Box%E2%80%93Muller_transform)- do not need to derive and prove it. the topic will be included in lectures in the following week). Normal= zero mean, unit variance    \n",
    "a)Sample many points from this distribution. plot the pdf of the sample (plot hist).             \n",
    "                              \n"
   ]
  },
  {
   "cell_type": "code",
   "execution_count": 8,
   "metadata": {},
   "outputs": [
    {
     "data": {
      "text/plain": [
       "(array([24., 13., 24., 22., 12., 15., 19., 15.,  9., 25., 16., 15., 16.,\n",
       "        14., 16., 11., 16., 16., 16., 17., 15., 13., 18., 10., 17., 16.,\n",
       "        22., 16., 12., 20., 24., 12., 14., 23., 16., 17., 12., 23., 20.,\n",
       "        15., 19., 22., 17.,  8., 17., 13., 12., 24., 14., 13., 11., 20.,\n",
       "        10., 21., 15., 17., 18., 21., 23., 19.]),\n",
       " array([0.00358129, 0.02018203, 0.03678277, 0.05338351, 0.06998425,\n",
       "        0.08658499, 0.10318573, 0.11978647, 0.13638721, 0.15298795,\n",
       "        0.16958869, 0.18618943, 0.20279017, 0.21939091, 0.23599165,\n",
       "        0.25259239, 0.26919313, 0.28579386, 0.3023946 , 0.31899534,\n",
       "        0.33559608, 0.35219682, 0.36879756, 0.3853983 , 0.40199904,\n",
       "        0.41859978, 0.43520052, 0.45180126, 0.468402  , 0.48500274,\n",
       "        0.50160348, 0.51820422, 0.53480496, 0.5514057 , 0.56800644,\n",
       "        0.58460718, 0.60120792, 0.61780866, 0.6344094 , 0.65101014,\n",
       "        0.66761088, 0.68421162, 0.70081236, 0.71741309, 0.73401383,\n",
       "        0.75061457, 0.76721531, 0.78381605, 0.80041679, 0.81701753,\n",
       "        0.83361827, 0.85021901, 0.86681975, 0.88342049, 0.90002123,\n",
       "        0.91662197, 0.93322271, 0.94982345, 0.96642419, 0.98302493,\n",
       "        0.99962567]),\n",
       " <BarContainer object of 60 artists>)"
      ]
     },
     "execution_count": 8,
     "metadata": {},
     "output_type": "execute_result"
    },
    {
     "data": {
      "image/png": "[encoded data removed]",
      "text/plain": [
       "<Figure size 432x288 with 1 Axes>"
      ]
     },
     "metadata": {
      "needs_background": "light"
     },
     "output_type": "display_data"
    }
   ],
   "source": [
    "import numpy as np\n",
    "import matplotlib.pyplot as plt\n",
    "ran = np.random.uniform(0, 1, 1000)\n",
    "plt.hist(ran,bins=60)"
   ]
  },
  {
   "cell_type": "code",
   "execution_count": 24,
   "metadata": {},
   "outputs": [
    {
     "data": {
      "text/plain": [
       "(array([ 1.,  0.,  1.,  0.,  2.,  1.,  4.,  0.,  1.,  2.,  7.,  6.,  8.,\n",
       "         4.,  8., 12., 13.,  9., 25., 28., 19., 28., 27., 42., 37., 35.,\n",
       "        35., 50., 48., 45., 48., 39., 49., 27., 40., 32., 28., 28., 26.,\n",
       "        29., 20., 29., 16., 17., 13.,  8., 12.,  6.,  9.,  4., 10.,  5.,\n",
       "         1.,  2.,  0.,  2.,  0.,  0.,  0.,  2.]),\n",
       " array([-3.29812165, -3.1900485 , -3.08197536, -2.97390221, -2.86582907,\n",
       "        -2.75775592, -2.64968277, -2.54160963, -2.43353648, -2.32546334,\n",
       "        -2.21739019, -2.10931705, -2.0012439 , -1.89317076, -1.78509761,\n",
       "        -1.67702447, -1.56895132, -1.46087818, -1.35280503, -1.24473188,\n",
       "        -1.13665874, -1.02858559, -0.92051245, -0.8124393 , -0.70436616,\n",
       "        -0.59629301, -0.48821987, -0.38014672, -0.27207358, -0.16400043,\n",
       "        -0.05592729,  0.05214586,  0.16021901,  0.26829215,  0.3763653 ,\n",
       "         0.48443844,  0.59251159,  0.70058473,  0.80865788,  0.91673102,\n",
       "         1.02480417,  1.13287731,  1.24095046,  1.3490236 ,  1.45709675,\n",
       "         1.56516989,  1.67324304,  1.78131619,  1.88938933,  1.99746248,\n",
       "         2.10553562,  2.21360877,  2.32168191,  2.42975506,  2.5378282 ,\n",
       "         2.64590135,  2.75397449,  2.86204764,  2.97012078,  3.07819393,\n",
       "         3.18626708]),\n",
       " <BarContainer object of 60 artists>)"
      ]
     },
     "execution_count": 24,
     "metadata": {},
     "output_type": "execute_result"
    },
    {
     "data": {
      "image/png": "[encoded data removed]",
      "text/plain": [
       "<Figure size 432x288 with 1 Axes>"
      ]
     },
     "metadata": {
      "needs_background": "light"
     },
     "output_type": "display_data"
    }
   ],
   "source": [
    "np.random.seed(521)\n",
    "U1 = np.random.uniform(size = 1000)\n",
    "U2 = np.random.uniform(size = 1000)\n",
    "R = np.sqrt(-2 * np.log(U1))\n",
    "Theta = 2 * np.pi * U2\n",
    "z0 = R * np.cos(Theta)\n",
    "z1= R * np.sin(Theta)\n",
    "plt.hist(z1,bins=60)\n",
    "plt.hist(z0,bins=60)"
   ]
  },
  {
   "cell_type": "markdown",
   "metadata": {},
   "source": [
    "b)Calculate mean of the sample. Its variance."
   ]
  },
  {
   "cell_type": "code",
   "execution_count": 31,
   "metadata": {},
   "outputs": [
    {
     "name": "stdout",
     "output_type": "stream",
     "text": [
      "Meanz0: -0.014729355136398833\n",
      "Variancez0: 1.0078005969724773\n",
      "Meanz1: -0.016539307655000293\n",
      "Variancez1: 0.9840042317825416\n"
     ]
    }
   ],
   "source": [
    "meanz0 = np.mean(z0)\n",
    "variancez0 = np.var(z0)\n",
    "meanz1 = np.mean(z1)\n",
    "variancez1 = np.var(z1)\n",
    "print(f\"Meanz0: {meanz0}\")\n",
    "print(f\"Variancez0: {variancez0}\")\n",
    "print(f\"Meanz1: {meanz1}\")\n",
    "print(f\"Variancez1: {variancez1}\")"
   ]
  },
  {
   "cell_type": "markdown",
   "metadata": {},
   "source": [
    "c)Overplot the pdf now, using this mean and variance (on the plot hist). Also use the mean and std deviation functions from python library. Do they agree?"
   ]
  },
  {
   "cell_type": "code",
   "execution_count": 35,
   "metadata": {
    "scrolled": false
   },
   "outputs": [
    {
     "data": {
      "text/plain": [
       "[<matplotlib.lines.Line2D at 0x14e51b8a940>]"
      ]
     },
     "execution_count": 35,
     "metadata": {},
     "output_type": "execute_result"
    },
    {
     "data": {
      "image/png": "[encoded data removed]",
      "text/plain": [
       "<Figure size 432x288 with 1 Axes>"
      ]
     },
     "metadata": {
      "needs_background": "light"
     },
     "output_type": "display_data"
    }
   ],
   "source": [
    "plt.hist(z1,density=1)\n",
    "gaus= np.exp(-.5*np.power( (z1 - meanz1)/variancez1, 2) )/ (np.sqrt(2*np.pi) *variancez1)\n",
    "plt.plot(z1,gaus,'.')\n"
   ]
  },
  {
   "cell_type": "markdown",
   "metadata": {},
   "source": [
    "d)Now that you have your Normal distribution, how can you turn it into a Gaussian distribution with  given mean and variance? For example mean=2, and std dev=4 ?   "
   ]
  },
  {
   "cell_type": "code",
   "execution_count": 38,
   "metadata": {},
   "outputs": [
    {
     "name": "stdout",
     "output_type": "stream",
     "text": [
      "mean: 1.9999999999999998\n",
      "variance: 3.9999999999999996\n"
     ]
    },
    {
     "data": {
      "image/png": "[encoded data removed]",
      "text/plain": [
       "<Figure size 432x288 with 1 Axes>"
      ]
     },
     "metadata": {
      "needs_background": "light"
     },
     "output_type": "display_data"
    }
   ],
   "source": [
    "new_Gaussian=2+(z1-meanz1)*(4/np.sqrt(variancez1))\n",
    "plt.title(\"new Gaussian distribution\")\n",
    "plt.hist(new_Gaussian,bins=15)\n",
    "print(\"mean:\",np.mean(new_Gaussian))\n",
    "print(\"variance:\",np.sqrt(np.var(new_Gaussian)))"
   ]
  },
  {
   "cell_type": "markdown",
   "metadata": {},
   "source": [
    "there are two problems left, but you can choose one of them to solve.(we highly recommend you to solve both of them)"
   ]
  },
  {
   "cell_type": "markdown",
   "metadata": {},
   "source": [
    "# Nice Matrix"
   ]
  },
  {
   "cell_type": "markdown",
   "metadata": {},
   "source": [
    "A matrix of size n$\\times$n which include numbers of {1,2,3,...,$n^2$} is called nice, if sum of all rows and columns  are the same. write a code that get n as a input and return a n$\\times$n Nice Matrix. print out the examples of Nice Matrix for n = 4,5,6"
   ]
  },
  {
   "cell_type": "code",
   "execution_count": 57,
   "metadata": {},
   "outputs": [
    {
     "name": "stdout",
     "output_type": "stream",
     "text": [
      "0\n",
      "1\n",
      "2\n"
     ]
    }
   ],
   "source": [
    "for i in range(3):\n",
    "    print(i)"
   ]
  },
  {
   "cell_type": "markdown",
   "metadata": {},
   "source": [
    "# Honest and Liers"
   ]
  },
  {
   "cell_type": "markdown",
   "metadata": {
    "slideshow": {
     "slide_type": "-"
    }
   },
   "source": [
    "Suppose there 16 People sit around a circular table.  ٍEach claims that the two people next to him/her are liars. How many liars are there in the crowd? "
   ]
  },
  {
   "cell_type": "code",
   "execution_count": 76,
   "metadata": {},
   "outputs": [
    {
     "name": "stdout",
     "output_type": "stream",
     "text": [
      "number of liars: 10\n"
     ]
    }
   ],
   "source": [
    "import numpy as np\n",
    "people=[]\n",
    "a=1\n",
    "b=0\n",
    "#0=liar,1=honst)\n",
    "def honest_liar(n):\n",
    "    for i in range(n):\n",
    "        if i==0:\n",
    "            people.append(a)\n",
    "        else:\n",
    "            if people[i-1]==b:\n",
    "                if people[i-2]==a:\n",
    "                    p=np.random.choice([0,1],1)\n",
    "                    people.append(p)\n",
    "                else:\n",
    "                    people.append(a)\n",
    "                    \n",
    "            else:\n",
    "                people.append(b)\n",
    "    return people\n",
    "x=honest_liar(16).count(0)\n",
    "print(\"number of liars:\",x)\n",
    "            \n",
    "    \n"
   ]
  },
  {
   "cell_type": "code",
   "execution_count": null,
   "metadata": {},
   "outputs": [],
   "source": []
  }
 ],
 "metadata": {
  "hide_input": false,
  "kernelspec": {
   "display_name": "Python 3 (ipykernel)",
   "language": "python",
   "name": "python3"
  },
  "language_info": {
   "codemirror_mode": {
    "name": "ipython",
    "version": 3
   },
   "file_extension": ".py",
   "mimetype": "text/x-python",
   "name": "python",
   "nbconvert_exporter": "python",
   "pygments_lexer": "ipython3",
   "version": "3.9.7"
  },
  "toc": {
   "base_numbering": 1,
   "nav_menu": {},
   "number_sections": true,
   "sideBar": true,
   "skip_h1_title": false,
   "title_cell": "Table of Contents",
   "title_sidebar": "Contents",
   "toc_cell": false,
   "toc_position": {
    "height": "calc(100% - 180px)",
    "left": "10px",
    "top": "150px",
    "width": "165px"
   },
   "toc_section_display": true,
   "toc_window_display": true
  }
 },
 "nbformat": 4,
 "nbformat_minor": 4
}
